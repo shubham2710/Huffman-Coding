{
 "cells": [
  {
   "cell_type": "code",
   "execution_count": 7,
   "metadata": {},
   "outputs": [
    {
     "name": "stdout",
     "output_type": "stream",
     "text": [
      "Compressing\n",
      "Compressed\n",
      "Location of compressed file :  /Users/Shubham/Downloads/sample.bin\n",
      "\n",
      "Decompressing\n",
      "Location of decompressed file :  /Users/Shubham/Downloads/sample_decompressed.txt\n"
     ]
    }
   ],
   "source": [
    "import os \n",
    "import heapq\n",
    "class BinaryTreeNode:\n",
    "    def __init__(self,value,freq):\n",
    "        self.value = value\n",
    "        self.freq = freq\n",
    "        self.right = None\n",
    "        self.left = None\n",
    "        \n",
    "    def __lt__(self,other):\n",
    "        return self.freq < other.freq\n",
    "    \n",
    "    def __equal__(self,other):\n",
    "        return self.freq == other.freq \n",
    "\n",
    "class HuffmanCoding:\n",
    "    def __init__(self,path):\n",
    "        self.path = path\n",
    "        self.__heap = []\n",
    "        self.__code = {}\n",
    "        self.__reverseCodes ={}\n",
    "    \n",
    "    def __make_frequency(self,text):\n",
    "        freq_dict = {}\n",
    "        \n",
    "        for char in text:\n",
    "            if char not in freq_dict:\n",
    "                freq_dict[char] = 0\n",
    "            freq_dict[char] += 1\n",
    "            \n",
    "        return freq_dict\n",
    "        \n",
    "    def __buildHeap(self,freq_dict):\n",
    "        for key in freq_dict:\n",
    "            frequency = freq_dict[key]\n",
    "            binary_treeNode = BinaryTreeNode(key,frequency)\n",
    "            heapq.heappush(self.__heap,binary_treeNode)\n",
    "            \n",
    "    def __buildTree(self):\n",
    "        while(len(self.__heap) > 1):\n",
    "            bin1 = heapq.heappop(self.__heap)\n",
    "            bin2 = heapq.heappop(self.__heap)\n",
    "            sum_freq = bin1.freq + bin2.freq\n",
    "            newNode = BinaryTreeNode(None , sum_freq)\n",
    "            newNode.left = bin1\n",
    "            newNode.right = bin2\n",
    "            heapq.heappush(self.__heap,newNode)\n",
    "        return \n",
    "    def buildCodeHelper(self,root,currBits):\n",
    "        if root is None:\n",
    "            return\n",
    "        \n",
    "        if root.value is not None:\n",
    "            self.__code[root.value] = currBits\n",
    "            self.__reverseCodes[currBits] = root.value\n",
    "            return \n",
    "        \n",
    "        self.buildCodeHelper(root.left,currBits+\"0\")\n",
    "        self.buildCodeHelper(root.right,currBits+\"1\")\n",
    "        \n",
    "    \n",
    "    def __buildCodes(self):\n",
    "        root = heapq.heappop(self.__heap)\n",
    "        self.buildCodeHelper(root,\"\")\n",
    "    \n",
    "    def __getEncoded(self,text):\n",
    "        encoded_text = \"\"\n",
    "        for char in text:\n",
    "            encoded_text += self.__code[char]\n",
    "        return encoded_text\n",
    "    \n",
    "    def __getPadded(self,encoded_text):\n",
    "        padded_amount = 8 - (len(encoded_text)%8)\n",
    "        \n",
    "        for i in range(padded_amount):\n",
    "            encoded_text +=\"0\"\n",
    "        padded_info = \"{0:08b}\".format(padded_amount)\n",
    "        padded_encoded_text = padded_info + encoded_text\n",
    "        return padded_encoded_text\n",
    "    \n",
    "    def __getBytesArray(self,padded_encoded_text):\n",
    "        \n",
    "        array =[]\n",
    "        for i in range(0,len(padded_encoded_text),8):\n",
    "            byte = padded_encoded_text[i:i+8]\n",
    "            array.append(int(byte,2))\n",
    "        return array\n",
    "        \n",
    "        \n",
    "    \n",
    "    def compress(self):\n",
    "        #get file from path\n",
    "        file_name,file_extension = os.path.splitext(self.path)\n",
    "        output_path = file_name + '.bin'\n",
    "        \n",
    "        with open(self.path , 'r+') as file, open(output_path,'wb') as output:\n",
    "            \n",
    "            text = file.read()\n",
    "            text = text.rstrip()\n",
    "            freq_dict = self.__make_frequency(text)\n",
    "                      # Construct heap from freq Dict\n",
    "            self.__buildHeap(freq_dict)\n",
    "        \n",
    "        #construct binary tree from heap\n",
    "            self.__buildTree()\n",
    "        \n",
    "        #Build Codes from BinaryTree\n",
    "            self.__buildCodes()\n",
    "        \n",
    "        #creating encoded Text using binary code\n",
    "            encoded_text = self.__getEncoded(text)\n",
    "        \n",
    "        #pad this encoded text\n",
    "            padded_encoded_text = self.__getPadded(encoded_text)\n",
    "        \n",
    "            bytes_array = self.__getBytesArray(padded_encoded_text)\n",
    "        \n",
    "        #return this binary file as output\n",
    "            final_bytes = bytes(bytes_array)\n",
    "            output.write(final_bytes)\n",
    "        print('Compressed')\n",
    "        return output_path\n",
    "    \n",
    "    def __removePadding(self,text):\n",
    "        padded_info = text[:8]\n",
    "        extra_padding = int(padded_info,2)\n",
    "        \n",
    "        text = text[8:]\n",
    "        text_after_padding_removed = text[:1*extra_padding]\n",
    "        return text_after_padding_removed\n",
    "    def __decodeText(self,text):\n",
    "        decode_text = \"\"\n",
    "        current_bits = \"\"\n",
    "        \n",
    "        \n",
    "        for bit in text:\n",
    "            current_bits+=bit\n",
    "            if current_bits in self.__reverseCodes:\n",
    "                character =self.__reverseCodes[current_bits]\n",
    "                decode_text +=character\n",
    "                current_bits = \"\"\n",
    "        return decode_text\n",
    "    def decompress(self,input_path):\n",
    "        filename,fileextension = os.path.splitext(self.path)\n",
    "        output_path = filename + \"_decompressed\" + \".txt\"\n",
    "        with open(input_path, 'rb') as file, open(output_path,'w') as output:\n",
    "            bit_string = \"\"\n",
    "            byte = file.read(1)\n",
    "            \n",
    "            while byte:\n",
    "                byte = ord(byte)\n",
    "                bits  = bin(byte)[2:].rjust(8,'0')\n",
    "                bit_string += bits\n",
    "                byte = file.read(1)\n",
    "                \n",
    "            actual_text = self.__removePadding(bit_string)\n",
    "            decompressed_text = self.__decodeText(actual_text)\n",
    "            output.write(decompressed_text)\n",
    "        return output_path\n",
    "             \n",
    "            \n",
    "\n",
    "        \n",
    "        \n",
    "path = '/Users/Shubham/Downloads/sample.txt'\n",
    "\n",
    "file=HuffmanCoding(path)\n",
    "print('Compressing')\n",
    "compressed_path=file.compress()\n",
    "print('Location of compressed file : ',compressed_path)\n",
    "print()\n",
    "print('Decompressing')\n",
    "decompressed_path=file.decompress(compressed_file_path)\n",
    "print('Location of decompressed file : ',decompressed_path)"
   ]
  },
  {
   "cell_type": "code",
   "execution_count": null,
   "metadata": {},
   "outputs": [],
   "source": []
  },
  {
   "cell_type": "code",
   "execution_count": null,
   "metadata": {},
   "outputs": [],
   "source": []
  },
  {
   "cell_type": "code",
   "execution_count": null,
   "metadata": {},
   "outputs": [],
   "source": []
  },
  {
   "cell_type": "code",
   "execution_count": null,
   "metadata": {},
   "outputs": [],
   "source": []
  },
  {
   "cell_type": "code",
   "execution_count": null,
   "metadata": {},
   "outputs": [],
   "source": []
  },
  {
   "cell_type": "code",
   "execution_count": null,
   "metadata": {},
   "outputs": [],
   "source": []
  },
  {
   "cell_type": "code",
   "execution_count": null,
   "metadata": {},
   "outputs": [],
   "source": []
  },
  {
   "cell_type": "code",
   "execution_count": null,
   "metadata": {},
   "outputs": [],
   "source": []
  },
  {
   "cell_type": "code",
   "execution_count": null,
   "metadata": {},
   "outputs": [],
   "source": []
  },
  {
   "cell_type": "code",
   "execution_count": null,
   "metadata": {},
   "outputs": [],
   "source": []
  },
  {
   "cell_type": "code",
   "execution_count": null,
   "metadata": {},
   "outputs": [],
   "source": []
  },
  {
   "cell_type": "code",
   "execution_count": null,
   "metadata": {},
   "outputs": [],
   "source": []
  },
  {
   "cell_type": "code",
   "execution_count": null,
   "metadata": {},
   "outputs": [],
   "source": []
  },
  {
   "cell_type": "code",
   "execution_count": null,
   "metadata": {},
   "outputs": [],
   "source": []
  },
  {
   "cell_type": "code",
   "execution_count": null,
   "metadata": {},
   "outputs": [],
   "source": []
  },
  {
   "cell_type": "code",
   "execution_count": null,
   "metadata": {},
   "outputs": [],
   "source": []
  },
  {
   "cell_type": "code",
   "execution_count": null,
   "metadata": {},
   "outputs": [],
   "source": []
  },
  {
   "cell_type": "code",
   "execution_count": null,
   "metadata": {},
   "outputs": [],
   "source": []
  },
  {
   "cell_type": "code",
   "execution_count": null,
   "metadata": {},
   "outputs": [],
   "source": []
  },
  {
   "cell_type": "code",
   "execution_count": null,
   "metadata": {},
   "outputs": [],
   "source": []
  },
  {
   "cell_type": "code",
   "execution_count": null,
   "metadata": {},
   "outputs": [],
   "source": []
  },
  {
   "cell_type": "code",
   "execution_count": null,
   "metadata": {},
   "outputs": [],
   "source": []
  },
  {
   "cell_type": "code",
   "execution_count": null,
   "metadata": {},
   "outputs": [],
   "source": []
  },
  {
   "cell_type": "code",
   "execution_count": null,
   "metadata": {},
   "outputs": [],
   "source": []
  },
  {
   "cell_type": "code",
   "execution_count": null,
   "metadata": {},
   "outputs": [],
   "source": []
  },
  {
   "cell_type": "code",
   "execution_count": null,
   "metadata": {},
   "outputs": [],
   "source": []
  },
  {
   "cell_type": "code",
   "execution_count": null,
   "metadata": {},
   "outputs": [],
   "source": []
  },
  {
   "cell_type": "code",
   "execution_count": null,
   "metadata": {},
   "outputs": [],
   "source": []
  },
  {
   "cell_type": "code",
   "execution_count": null,
   "metadata": {},
   "outputs": [],
   "source": []
  },
  {
   "cell_type": "code",
   "execution_count": null,
   "metadata": {},
   "outputs": [],
   "source": []
  },
  {
   "cell_type": "code",
   "execution_count": null,
   "metadata": {},
   "outputs": [],
   "source": []
  },
  {
   "cell_type": "code",
   "execution_count": null,
   "metadata": {},
   "outputs": [],
   "source": []
  },
  {
   "cell_type": "code",
   "execution_count": null,
   "metadata": {},
   "outputs": [],
   "source": []
  },
  {
   "cell_type": "code",
   "execution_count": null,
   "metadata": {},
   "outputs": [],
   "source": []
  },
  {
   "cell_type": "code",
   "execution_count": null,
   "metadata": {},
   "outputs": [],
   "source": []
  },
  {
   "cell_type": "code",
   "execution_count": null,
   "metadata": {},
   "outputs": [],
   "source": []
  },
  {
   "cell_type": "code",
   "execution_count": null,
   "metadata": {},
   "outputs": [],
   "source": []
  },
  {
   "cell_type": "code",
   "execution_count": null,
   "metadata": {},
   "outputs": [],
   "source": []
  },
  {
   "cell_type": "code",
   "execution_count": null,
   "metadata": {},
   "outputs": [],
   "source": []
  },
  {
   "cell_type": "code",
   "execution_count": null,
   "metadata": {},
   "outputs": [],
   "source": []
  },
  {
   "cell_type": "code",
   "execution_count": null,
   "metadata": {},
   "outputs": [],
   "source": []
  },
  {
   "cell_type": "code",
   "execution_count": null,
   "metadata": {},
   "outputs": [],
   "source": []
  },
  {
   "cell_type": "code",
   "execution_count": null,
   "metadata": {},
   "outputs": [],
   "source": []
  },
  {
   "cell_type": "code",
   "execution_count": null,
   "metadata": {},
   "outputs": [],
   "source": []
  },
  {
   "cell_type": "code",
   "execution_count": null,
   "metadata": {},
   "outputs": [],
   "source": []
  },
  {
   "cell_type": "code",
   "execution_count": null,
   "metadata": {},
   "outputs": [],
   "source": []
  },
  {
   "cell_type": "code",
   "execution_count": null,
   "metadata": {},
   "outputs": [],
   "source": []
  },
  {
   "cell_type": "code",
   "execution_count": null,
   "metadata": {},
   "outputs": [],
   "source": []
  },
  {
   "cell_type": "code",
   "execution_count": null,
   "metadata": {},
   "outputs": [],
   "source": []
  },
  {
   "cell_type": "code",
   "execution_count": null,
   "metadata": {},
   "outputs": [],
   "source": []
  },
  {
   "cell_type": "code",
   "execution_count": null,
   "metadata": {},
   "outputs": [],
   "source": []
  }
 ],
 "metadata": {
  "kernelspec": {
   "display_name": "Python 3",
   "language": "python",
   "name": "python3"
  },
  "language_info": {
   "codemirror_mode": {
    "name": "ipython",
    "version": 3
   },
   "file_extension": ".py",
   "mimetype": "text/x-python",
   "name": "python",
   "nbconvert_exporter": "python",
   "pygments_lexer": "ipython3",
   "version": "3.7.6"
  }
 },
 "nbformat": 4,
 "nbformat_minor": 2
}
